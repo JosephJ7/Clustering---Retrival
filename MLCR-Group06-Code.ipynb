{
  "nbformat": 4,
  "nbformat_minor": 0,
  "metadata": {
    "colab": {
      "name": "Clustering_Proj.ipynb",
      "provenance": [],
      "collapsed_sections": []
    },
    "kernelspec": {
      "name": "python3",
      "display_name": "Python 3"
    },
    "language_info": {
      "name": "python"
    }
  },
  "cells": [
    {
      "cell_type": "code",
      "source": [
        "from google.colab import drive\n",
        "drive.mount('/content/drive')"
      ],
      "metadata": {
        "colab": {
          "base_uri": "https://localhost:8080/"
        },
        "id": "0t2vxYS1Wl-z",
        "outputId": "e1cc63e3-95ad-4f8e-affd-902313f07d77"
      },
      "execution_count": null,
      "outputs": [
        {
          "output_type": "stream",
          "name": "stdout",
          "text": [
            "Mounted at /content/drive\n"
          ]
        }
      ]
    },
    {
      "cell_type": "code",
      "source": [
        "from sklearn.datasets import load_digits\n",
        "from sklearn.decomposition import PCA\n",
        "from sklearn.cluster import KMeans\n",
        "import matplotlib.pyplot as plt\n",
        "import numpy as np\n",
        "import pandas as pd\n",
        "import seaborn as sns"
      ],
      "metadata": {
        "id": "cEK9zt6BgOV_"
      },
      "execution_count": null,
      "outputs": []
    },
    {
      "cell_type": "code",
      "source": [
        "%cd \"/content/drive\"\n",
        "data=pd.read_csv('MyDrive/kaggle_cluster_covid/Cleaned-Data.csv')"
      ],
      "metadata": {
        "id": "lNMlC8j-T8KY",
        "outputId": "61d149eb-a02d-4dda-d9a6-c7eb073dfc5c",
        "colab": {
          "base_uri": "https://localhost:8080/"
        }
      },
      "execution_count": null,
      "outputs": [
        {
          "output_type": "stream",
          "name": "stdout",
          "text": [
            "/content/drive\n"
          ]
        }
      ]
    },
    {
      "cell_type": "code",
      "source": [
        "data.dropna(inplace=True)\n",
        "data.drop_duplicates(inplace=True)\n",
        "data.head(5)"
      ],
      "metadata": {
        "id": "CFezq2zrUFrr",
        "colab": {
          "base_uri": "https://localhost:8080/",
          "height": 334
        },
        "outputId": "1c9989b6-74e7-4e88-983d-3c980298d457"
      },
      "execution_count": null,
      "outputs": [
        {
          "output_type": "execute_result",
          "data": {
            "text/plain": [
              "   Fever  Tiredness  Dry-Cough  Difficulty-in-Breathing  Sore-Throat  \\\n",
              "0      1          1          1                        1            1   \n",
              "1      1          1          1                        1            1   \n",
              "2      1          1          1                        1            1   \n",
              "3      1          1          1                        1            1   \n",
              "4      1          1          1                        1            1   \n",
              "\n",
              "   None_Sympton  Pains  Nasal-Congestion  Runny-Nose  Diarrhea  ...  \\\n",
              "0             0      1                 1           1         1  ...   \n",
              "1             0      1                 1           1         1  ...   \n",
              "2             0      1                 1           1         1  ...   \n",
              "3             0      1                 1           1         1  ...   \n",
              "4             0      1                 1           1         1  ...   \n",
              "\n",
              "   Gender_Male  Gender_Transgender  Severity_Mild  Severity_Moderate  \\\n",
              "0            1                   0              1                  0   \n",
              "1            1                   0              1                  0   \n",
              "2            1                   0              1                  0   \n",
              "3            1                   0              0                  1   \n",
              "4            1                   0              0                  1   \n",
              "\n",
              "   Severity_None  Severity_Severe  Contact_Dont-Know  Contact_No  Contact_Yes  \\\n",
              "0              0                0                  0           0            1   \n",
              "1              0                0                  0           1            0   \n",
              "2              0                0                  1           0            0   \n",
              "3              0                0                  0           0            1   \n",
              "4              0                0                  0           1            0   \n",
              "\n",
              "   Country  \n",
              "0    China  \n",
              "1    China  \n",
              "2    China  \n",
              "3    China  \n",
              "4    China  \n",
              "\n",
              "[5 rows x 27 columns]"
            ],
            "text/html": [
              "\n",
              "  <div id=\"df-ad22be97-0c01-48e8-a4a8-8aea494fc1c0\">\n",
              "    <div class=\"colab-df-container\">\n",
              "      <div>\n",
              "<style scoped>\n",
              "    .dataframe tbody tr th:only-of-type {\n",
              "        vertical-align: middle;\n",
              "    }\n",
              "\n",
              "    .dataframe tbody tr th {\n",
              "        vertical-align: top;\n",
              "    }\n",
              "\n",
              "    .dataframe thead th {\n",
              "        text-align: right;\n",
              "    }\n",
              "</style>\n",
              "<table border=\"1\" class=\"dataframe\">\n",
              "  <thead>\n",
              "    <tr style=\"text-align: right;\">\n",
              "      <th></th>\n",
              "      <th>Fever</th>\n",
              "      <th>Tiredness</th>\n",
              "      <th>Dry-Cough</th>\n",
              "      <th>Difficulty-in-Breathing</th>\n",
              "      <th>Sore-Throat</th>\n",
              "      <th>None_Sympton</th>\n",
              "      <th>Pains</th>\n",
              "      <th>Nasal-Congestion</th>\n",
              "      <th>Runny-Nose</th>\n",
              "      <th>Diarrhea</th>\n",
              "      <th>...</th>\n",
              "      <th>Gender_Male</th>\n",
              "      <th>Gender_Transgender</th>\n",
              "      <th>Severity_Mild</th>\n",
              "      <th>Severity_Moderate</th>\n",
              "      <th>Severity_None</th>\n",
              "      <th>Severity_Severe</th>\n",
              "      <th>Contact_Dont-Know</th>\n",
              "      <th>Contact_No</th>\n",
              "      <th>Contact_Yes</th>\n",
              "      <th>Country</th>\n",
              "    </tr>\n",
              "  </thead>\n",
              "  <tbody>\n",
              "    <tr>\n",
              "      <th>0</th>\n",
              "      <td>1</td>\n",
              "      <td>1</td>\n",
              "      <td>1</td>\n",
              "      <td>1</td>\n",
              "      <td>1</td>\n",
              "      <td>0</td>\n",
              "      <td>1</td>\n",
              "      <td>1</td>\n",
              "      <td>1</td>\n",
              "      <td>1</td>\n",
              "      <td>...</td>\n",
              "      <td>1</td>\n",
              "      <td>0</td>\n",
              "      <td>1</td>\n",
              "      <td>0</td>\n",
              "      <td>0</td>\n",
              "      <td>0</td>\n",
              "      <td>0</td>\n",
              "      <td>0</td>\n",
              "      <td>1</td>\n",
              "      <td>China</td>\n",
              "    </tr>\n",
              "    <tr>\n",
              "      <th>1</th>\n",
              "      <td>1</td>\n",
              "      <td>1</td>\n",
              "      <td>1</td>\n",
              "      <td>1</td>\n",
              "      <td>1</td>\n",
              "      <td>0</td>\n",
              "      <td>1</td>\n",
              "      <td>1</td>\n",
              "      <td>1</td>\n",
              "      <td>1</td>\n",
              "      <td>...</td>\n",
              "      <td>1</td>\n",
              "      <td>0</td>\n",
              "      <td>1</td>\n",
              "      <td>0</td>\n",
              "      <td>0</td>\n",
              "      <td>0</td>\n",
              "      <td>0</td>\n",
              "      <td>1</td>\n",
              "      <td>0</td>\n",
              "      <td>China</td>\n",
              "    </tr>\n",
              "    <tr>\n",
              "      <th>2</th>\n",
              "      <td>1</td>\n",
              "      <td>1</td>\n",
              "      <td>1</td>\n",
              "      <td>1</td>\n",
              "      <td>1</td>\n",
              "      <td>0</td>\n",
              "      <td>1</td>\n",
              "      <td>1</td>\n",
              "      <td>1</td>\n",
              "      <td>1</td>\n",
              "      <td>...</td>\n",
              "      <td>1</td>\n",
              "      <td>0</td>\n",
              "      <td>1</td>\n",
              "      <td>0</td>\n",
              "      <td>0</td>\n",
              "      <td>0</td>\n",
              "      <td>1</td>\n",
              "      <td>0</td>\n",
              "      <td>0</td>\n",
              "      <td>China</td>\n",
              "    </tr>\n",
              "    <tr>\n",
              "      <th>3</th>\n",
              "      <td>1</td>\n",
              "      <td>1</td>\n",
              "      <td>1</td>\n",
              "      <td>1</td>\n",
              "      <td>1</td>\n",
              "      <td>0</td>\n",
              "      <td>1</td>\n",
              "      <td>1</td>\n",
              "      <td>1</td>\n",
              "      <td>1</td>\n",
              "      <td>...</td>\n",
              "      <td>1</td>\n",
              "      <td>0</td>\n",
              "      <td>0</td>\n",
              "      <td>1</td>\n",
              "      <td>0</td>\n",
              "      <td>0</td>\n",
              "      <td>0</td>\n",
              "      <td>0</td>\n",
              "      <td>1</td>\n",
              "      <td>China</td>\n",
              "    </tr>\n",
              "    <tr>\n",
              "      <th>4</th>\n",
              "      <td>1</td>\n",
              "      <td>1</td>\n",
              "      <td>1</td>\n",
              "      <td>1</td>\n",
              "      <td>1</td>\n",
              "      <td>0</td>\n",
              "      <td>1</td>\n",
              "      <td>1</td>\n",
              "      <td>1</td>\n",
              "      <td>1</td>\n",
              "      <td>...</td>\n",
              "      <td>1</td>\n",
              "      <td>0</td>\n",
              "      <td>0</td>\n",
              "      <td>1</td>\n",
              "      <td>0</td>\n",
              "      <td>0</td>\n",
              "      <td>0</td>\n",
              "      <td>1</td>\n",
              "      <td>0</td>\n",
              "      <td>China</td>\n",
              "    </tr>\n",
              "  </tbody>\n",
              "</table>\n",
              "<p>5 rows × 27 columns</p>\n",
              "</div>\n",
              "      <button class=\"colab-df-convert\" onclick=\"convertToInteractive('df-ad22be97-0c01-48e8-a4a8-8aea494fc1c0')\"\n",
              "              title=\"Convert this dataframe to an interactive table.\"\n",
              "              style=\"display:none;\">\n",
              "        \n",
              "  <svg xmlns=\"http://www.w3.org/2000/svg\" height=\"24px\"viewBox=\"0 0 24 24\"\n",
              "       width=\"24px\">\n",
              "    <path d=\"M0 0h24v24H0V0z\" fill=\"none\"/>\n",
              "    <path d=\"M18.56 5.44l.94 2.06.94-2.06 2.06-.94-2.06-.94-.94-2.06-.94 2.06-2.06.94zm-11 1L8.5 8.5l.94-2.06 2.06-.94-2.06-.94L8.5 2.5l-.94 2.06-2.06.94zm10 10l.94 2.06.94-2.06 2.06-.94-2.06-.94-.94-2.06-.94 2.06-2.06.94z\"/><path d=\"M17.41 7.96l-1.37-1.37c-.4-.4-.92-.59-1.43-.59-.52 0-1.04.2-1.43.59L10.3 9.45l-7.72 7.72c-.78.78-.78 2.05 0 2.83L4 21.41c.39.39.9.59 1.41.59.51 0 1.02-.2 1.41-.59l7.78-7.78 2.81-2.81c.8-.78.8-2.07 0-2.86zM5.41 20L4 18.59l7.72-7.72 1.47 1.35L5.41 20z\"/>\n",
              "  </svg>\n",
              "      </button>\n",
              "      \n",
              "  <style>\n",
              "    .colab-df-container {\n",
              "      display:flex;\n",
              "      flex-wrap:wrap;\n",
              "      gap: 12px;\n",
              "    }\n",
              "\n",
              "    .colab-df-convert {\n",
              "      background-color: #E8F0FE;\n",
              "      border: none;\n",
              "      border-radius: 50%;\n",
              "      cursor: pointer;\n",
              "      display: none;\n",
              "      fill: #1967D2;\n",
              "      height: 32px;\n",
              "      padding: 0 0 0 0;\n",
              "      width: 32px;\n",
              "    }\n",
              "\n",
              "    .colab-df-convert:hover {\n",
              "      background-color: #E2EBFA;\n",
              "      box-shadow: 0px 1px 2px rgba(60, 64, 67, 0.3), 0px 1px 3px 1px rgba(60, 64, 67, 0.15);\n",
              "      fill: #174EA6;\n",
              "    }\n",
              "\n",
              "    [theme=dark] .colab-df-convert {\n",
              "      background-color: #3B4455;\n",
              "      fill: #D2E3FC;\n",
              "    }\n",
              "\n",
              "    [theme=dark] .colab-df-convert:hover {\n",
              "      background-color: #434B5C;\n",
              "      box-shadow: 0px 1px 3px 1px rgba(0, 0, 0, 0.15);\n",
              "      filter: drop-shadow(0px 1px 2px rgba(0, 0, 0, 0.3));\n",
              "      fill: #FFFFFF;\n",
              "    }\n",
              "  </style>\n",
              "\n",
              "      <script>\n",
              "        const buttonEl =\n",
              "          document.querySelector('#df-ad22be97-0c01-48e8-a4a8-8aea494fc1c0 button.colab-df-convert');\n",
              "        buttonEl.style.display =\n",
              "          google.colab.kernel.accessAllowed ? 'block' : 'none';\n",
              "\n",
              "        async function convertToInteractive(key) {\n",
              "          const element = document.querySelector('#df-ad22be97-0c01-48e8-a4a8-8aea494fc1c0');\n",
              "          const dataTable =\n",
              "            await google.colab.kernel.invokeFunction('convertToInteractive',\n",
              "                                                     [key], {});\n",
              "          if (!dataTable) return;\n",
              "\n",
              "          const docLinkHtml = 'Like what you see? Visit the ' +\n",
              "            '<a target=\"_blank\" href=https://colab.research.google.com/notebooks/data_table.ipynb>data table notebook</a>'\n",
              "            + ' to learn more about interactive tables.';\n",
              "          element.innerHTML = '';\n",
              "          dataTable['output_type'] = 'display_data';\n",
              "          await google.colab.output.renderOutput(dataTable, element);\n",
              "          const docLink = document.createElement('div');\n",
              "          docLink.innerHTML = docLinkHtml;\n",
              "          element.appendChild(docLink);\n",
              "        }\n",
              "      </script>\n",
              "    </div>\n",
              "  </div>\n",
              "  "
            ]
          },
          "metadata": {},
          "execution_count": 7
        }
      ]
    },
    {
      "cell_type": "code",
      "source": [
        "data1=data.drop(['Severity_Mild','Severity_Moderate','Severity_None','Severity_Severe' ],axis=1) \n",
        "data1=data1.drop(['Country'],axis=1)\n",
        "data1.head()\n"
      ],
      "metadata": {
        "id": "70nOpMh8Xnyo"
      },
      "execution_count": null,
      "outputs": []
    },
    {
      "cell_type": "code",
      "source": [
        "from sklearn.preprocessing import StandardScaler\n",
        "scaler= StandardScaler()\n",
        "train_df_scaled=scaler.fit_transform(data1)"
      ],
      "metadata": {
        "id": "CDd7C9HHYHY0"
      },
      "execution_count": null,
      "outputs": []
    },
    {
      "cell_type": "markdown",
      "source": [
        "## PCA"
      ],
      "metadata": {
        "id": "W7c9q_EGqLM3"
      }
    },
    {
      "cell_type": "code",
      "source": [
        "pca = PCA(2)\n",
        "pca"
      ],
      "metadata": {
        "colab": {
          "base_uri": "https://localhost:8080/"
        },
        "id": "RJDGPN90qSNP",
        "outputId": "0a18f365-7145-4295-ffa1-1724568c13b5"
      },
      "execution_count": null,
      "outputs": [
        {
          "output_type": "execute_result",
          "data": {
            "text/plain": [
              "PCA(n_components=2)"
            ]
          },
          "metadata": {},
          "execution_count": 21
        }
      ]
    },
    {
      "cell_type": "code",
      "source": [
        "df = pca.fit_transform(train_df_scaled)\n",
        "df = pd.DataFrame(df)\n",
        "df.columns = ['P1', 'P2']\n",
        "print(df.head())"
      ],
      "metadata": {
        "colab": {
          "base_uri": "https://localhost:8080/"
        },
        "id": "W9ya67HjqUHy",
        "outputId": "0c881676-2d3c-4cb0-ffb5-c19f34e8b693"
      },
      "execution_count": null,
      "outputs": [
        {
          "output_type": "stream",
          "name": "stdout",
          "text": [
            "         P1        P2\n",
            "0 -2.109426 -1.831604\n",
            "1 -2.109563 -1.831705\n",
            "2 -2.109827 -1.832189\n",
            "3 -2.109426 -1.831604\n",
            "4 -2.109563 -1.831705\n"
          ]
        }
      ]
    },
    {
      "cell_type": "markdown",
      "source": [
        "# Elbow"
      ],
      "metadata": {
        "id": "jUx18T332NER"
      }
    },
    {
      "cell_type": "code",
      "source": [
        "inertias = []\n",
        "\n",
        "for i in range(1,15):\n",
        "    km=KMeans(n_clusters=i, random_state=2)\n",
        "    km.fit(train_df_scaled)\n",
        "    inertias.append(km.inertia_)\n",
        "plt.figure(figsize=(10,6))\n",
        "plt.plot(range(1,15), inertias, color='blue', marker='o', markerfacecolor='red', markersize=10)\n",
        "plt.title('Inertias versus number of clusters')\n",
        "plt.xlabel('Number of clusters')\n",
        "plt.ylabel('Inertia')\n",
        "plt.show()"
      ],
      "metadata": {
        "colab": {
          "base_uri": "https://localhost:8080/",
          "height": 404
        },
        "id": "WKuHt6Lq2L-i",
        "outputId": "b0049f31-408c-4dd9-d176-d05371d33b6e"
      },
      "execution_count": null,
      "outputs": [
        {
          "output_type": "display_data",
          "data": {
            "text/plain": [
              "<Figure size 720x432 with 1 Axes>"
            ],
            "image/png": "[encoded data removed]"
          },
          "metadata": {
            "needs_background": "light"
          }
        }
      ]
    },
    {
      "cell_type": "code",
      "source": [
        "from sklearn.metrics import davies_bouldin_score\n",
        "bouldin_score=[]\n",
        "\n",
        "for i in range(4,15):\n",
        "    km=KMeans(n_clusters=i, random_state=2)\n",
        "    labels=km.fit_predict(train_df_scaled)\n",
        "    bouldin_score.append(davies_bouldin_score(train_df_scaled, labels))"
      ],
      "metadata": {
        "id": "gs13A07F2TTb"
      },
      "execution_count": null,
      "outputs": []
    },
    {
      "cell_type": "code",
      "source": [
        "plt.figure(figsize=(10,6))\n",
        "plt.plot(range(4,15), bouldin_score, color='green', marker='o', markerfacecolor='blue', markersize=10)\n",
        "#Davies Bouldin Score \n",
        "plt.title('Davies Bouldin Score vs. number of clusters')\n",
        "plt.xlabel('Number of clusters')\n",
        "plt.ylabel('Davies Bouldin Score')\n",
        "plt.show()"
      ],
      "metadata": {
        "colab": {
          "base_uri": "https://localhost:8080/",
          "height": 404
        },
        "id": "17k_C7CM2bot",
        "outputId": "2110a14a-8e9d-4d97-d4c5-c47c6be3cffc"
      },
      "execution_count": null,
      "outputs": [
        {
          "output_type": "display_data",
          "data": {
            "text/plain": [
              "<Figure size 720x432 with 1 Axes>"
            ],
            "image/png": "[encoded data removed]"
          },
          "metadata": {
            "needs_background": "light"
          }
        }
      ]
    },
    {
      "cell_type": "markdown",
      "source": [
        "#K-Means"
      ],
      "metadata": {
        "id": "0WxT6NnSYZuL"
      }
    },
    {
      "cell_type": "code",
      "source": [
        "df = pd.DataFrame(train_df_scaled)\n",
        "#Import required module\n",
        "from sklearn.cluster import KMeans\n",
        " \n",
        "#Initialize the class object\n",
        "kmeans = KMeans(n_clusters= 7)\n",
        " \n",
        "#predict the labels of clusters.\n",
        "label = kmeans.fit_predict(df)\n",
        " \n",
        "print(label)"
      ],
      "metadata": {
        "colab": {
          "base_uri": "https://localhost:8080/"
        },
        "id": "SlOzHNgqYTxY",
        "outputId": "cb33b4bf-8058-4f32-f262-93c034de9180"
      },
      "execution_count": null,
      "outputs": [
        {
          "output_type": "stream",
          "name": "stdout",
          "text": [
            "[5 5 5 ... 0 0 0]\n"
          ]
        }
      ]
    },
    {
      "cell_type": "code",
      "source": [
        "label_df=pd.Dataframe(label)\n",
        "label_df"
      ],
      "metadata": {
        "colab": {
          "base_uri": "https://localhost:8080/"
        },
        "id": "4xWRQ7Elxrs_",
        "outputId": "c938be3f-0b33-44a2-8b91-1904eb85a671"
      },
      "execution_count": null,
      "outputs": [
        {
          "output_type": "execute_result",
          "data": {
            "text/plain": [
              "316800"
            ]
          },
          "metadata": {},
          "execution_count": 33
        }
      ]
    },
    {
      "cell_type": "code",
      "source": [
        "import matplotlib.pyplot as plt\n",
        " \n",
        "#filter rows of original data\n",
        "filtered_label0 = df[label == 0]\n",
        "#plotting the results\n",
        "plt.scatter(filtered_label0['P1'] , filtered_label0['P2'])\n",
        "plt.show()"
      ],
      "metadata": {
        "colab": {
          "base_uri": "https://localhost:8080/",
          "height": 265
        },
        "id": "yPyz4ILtZAx2",
        "outputId": "c25f0f9a-b92e-4ed8-f57e-88e53b9956d0"
      },
      "execution_count": null,
      "outputs": [
        {
          "output_type": "display_data",
          "data": {
            "text/plain": [
              "<Figure size 432x288 with 1 Axes>"
            ],
            "image/png": "[encoded data removed]"
          },
          "metadata": {
            "needs_background": "light"
          }
        }
      ]
    },
    {
      "cell_type": "code",
      "source": [
        "u_labels = np.unique(label)\n",
        " \n",
        "#plotting the results:\n",
        "filtered_label0 = df[label == 0]\n",
        "filtered_label1 = df[label == 1]\n",
        "filtered_label2 = df[label == 2]\n",
        "filtered_label3 = df[label == 3]\n",
        "filtered_label4 = df[label == 4]\n",
        "filtered_label5 = df[label == 5]\n",
        "filtered_label6 = df[label == 6]\n",
        "\n",
        "\n",
        "plt.scatter(filtered_label0['P1'] , filtered_label0['P2'])\n",
        "plt.scatter(filtered_label1['P1'] , filtered_label1['P2'])\n",
        "plt.scatter(filtered_label2['P1'] , filtered_label2['P2'])\n",
        "plt.scatter(filtered_label3['P1'] , filtered_label3['P2'])\n",
        "plt.scatter(filtered_label4['P1'] , filtered_label4['P2'])\n",
        "plt.scatter(filtered_label5['P1'] , filtered_label5['P2'])\n",
        "plt.scatter(filtered_label6['P1'] , filtered_label6['P2'])\n",
        "\n",
        "\n",
        "plt.legend()\n",
        "plt.show()\n"
      ],
      "metadata": {
        "id": "kyxH8nKWZQk-",
        "colab": {
          "base_uri": "https://localhost:8080/",
          "height": 282
        },
        "outputId": "f91c9a8d-5567-4130-891d-618f12ba8d26"
      },
      "execution_count": null,
      "outputs": [
        {
          "output_type": "stream",
          "name": "stderr",
          "text": [
            "No handles with labels found to put in legend.\n"
          ]
        },
        {
          "output_type": "display_data",
          "data": {
            "text/plain": [
              "<Figure size 432x288 with 1 Axes>"
            ],
            "image/png": "[encoded data removed]"
          },
          "metadata": {
            "needs_background": "light"
          }
        }
      ]
    },
    {
      "cell_type": "code",
      "source": [
        "#Getting the Centroids\n",
        "centroids = kmeans.cluster_centers_\n",
        "u_labels = np.unique(label)\n",
        " \n",
        "#plotting the results:\n",
        "\n",
        "filtered_label0 = df[label == 0]\n",
        "filtered_label1 = df[label == 1]\n",
        "filtered_label2 = df[label == 2]\n",
        "filtered_label3 = df[label == 3]\n",
        "filtered_label4 = df[label == 4]\n",
        "filtered_label5 = df[label == 5]\n",
        "filtered_label6 = df[label == 6]\n",
        "\n",
        "\n",
        "plt.scatter(filtered_label0['P1'] , filtered_label0['P2'])\n",
        "plt.scatter(filtered_label1['P1'] , filtered_label1['P2'])\n",
        "plt.scatter(filtered_label2['P1'] , filtered_label2['P2'])\n",
        "plt.scatter(filtered_label3['P1'] , filtered_label3['P2'])\n",
        "plt.scatter(filtered_label4['P1'] , filtered_label4['P2'])\n",
        "plt.scatter(filtered_label5['P1'] , filtered_label5['P2'])\n",
        "plt.scatter(filtered_label6['P1'] , filtered_label6['P2'])\n",
        "\n",
        "plt.scatter(centroids[:,0] , centroids[:,1] , s = 50, color = 'k')\n",
        "plt.legend()\n",
        "plt.show()"
      ],
      "metadata": {
        "id": "nyBlm7m8qnWm",
        "colab": {
          "base_uri": "https://localhost:8080/",
          "height": 282
        },
        "outputId": "090c9bae-fbd1-41a4-b152-876ebc99c4ef"
      },
      "execution_count": null,
      "outputs": [
        {
          "output_type": "stream",
          "name": "stderr",
          "text": [
            "No handles with labels found to put in legend.\n"
          ]
        },
        {
          "output_type": "display_data",
          "data": {
            "text/plain": [
              "<Figure size 432x288 with 1 Axes>"
            ],
            "image/png": "[encoded data removed]"
          },
          "metadata": {
            "needs_background": "light"
          }
        }
      ]
    },
    {
      "cell_type": "markdown",
      "source": [
        "# Birch"
      ],
      "metadata": {
        "id": "DK9SPUC8mfc9"
      }
    },
    {
      "cell_type": "code",
      "source": [
        "from sklearn.cluster import Birch\n",
        "import numpy as np\n",
        "import matplotlib.pyplot as plt"
      ],
      "metadata": {
        "id": "ykC0TMZUrBhE"
      },
      "execution_count": null,
      "outputs": []
    },
    {
      "cell_type": "code",
      "source": [
        "pca_birch = PCA(1)\n",
        "pca_birch"
      ],
      "metadata": {
        "id": "Q-iJy2zArDzg",
        "colab": {
          "base_uri": "https://localhost:8080/"
        },
        "outputId": "85ef67ea-4a12-4fa7-dbac-ae9ccfef8bbd"
      },
      "execution_count": null,
      "outputs": [
        {
          "output_type": "execute_result",
          "data": {
            "text/plain": [
              "PCA(n_components=1)"
            ]
          },
          "metadata": {},
          "execution_count": 28
        }
      ]
    },
    {
      "cell_type": "code",
      "source": [
        "df_birch = pca_birch.fit_transform(train_df_scaled)\n",
        " \n",
        "df_birch.shape"
      ],
      "metadata": {
        "id": "diotpES1rHXF",
        "colab": {
          "base_uri": "https://localhost:8080/"
        },
        "outputId": "e69fcc87-3046-443e-9a26-7d22d3ca5a82"
      },
      "execution_count": null,
      "outputs": [
        {
          "output_type": "execute_result",
          "data": {
            "text/plain": [
              "(316800, 1)"
            ]
          },
          "metadata": {},
          "execution_count": 29
        }
      ]
    },
    {
      "cell_type": "code",
      "source": [
        "df_birch_1=df_birch[:25000,:]"
      ],
      "metadata": {
        "id": "NZKa8ckIrKTr"
      },
      "execution_count": null,
      "outputs": []
    },
    {
      "cell_type": "code",
      "source": [
        "x_range = range(len(df_birch_1))\n",
        "x = np.array(list(zip(x_range, df_birch_1))).reshape(len(x_range), 2)\n",
        "\n",
        "plt.scatter(x[:,0], x[:,1])\n",
        "plt.show()"
      ],
      "metadata": {
        "id": "1ZVXbK1WrNId",
        "colab": {
          "base_uri": "https://localhost:8080/",
          "height": 324
        },
        "outputId": "16687895-2724-4af9-8e9d-c28a8e63ab50"
      },
      "execution_count": null,
      "outputs": [
        {
          "output_type": "stream",
          "name": "stderr",
          "text": [
            "/usr/local/lib/python3.7/dist-packages/ipykernel_launcher.py:2: VisibleDeprecationWarning: Creating an ndarray from ragged nested sequences (which is a list-or-tuple of lists-or-tuples-or ndarrays with different lengths or shapes) is deprecated. If you meant to do this, you must specify 'dtype=object' when creating the ndarray.\n",
            "  \n"
          ]
        },
        {
          "output_type": "display_data",
          "data": {
            "text/plain": [
              "<Figure size 432x288 with 1 Axes>"
            ],
            "image/png": "[encoded data removed]"
          },
          "metadata": {
            "needs_background": "light"
          }
        }
      ]
    },
    {
      "cell_type": "code",
      "source": [
        "bclust=Birch(branching_factor=100, threshold=.5).fit(x)\n",
        "print(bclust)\n",
        "\n",
        "labels = bclust.predict(x)\n",
        "\n",
        "plt.scatter(x[:,0], x[:,1], c=labels)\n",
        "plt.show()"
      ],
      "metadata": {
        "id": "m3MEoejBrQLE",
        "colab": {
          "base_uri": "https://localhost:8080/",
          "height": 286
        },
        "outputId": "f8f61070-4cca-4593-c573-dd0ff80e0b37"
      },
      "execution_count": null,
      "outputs": [
        {
          "output_type": "stream",
          "name": "stdout",
          "text": [
            "Birch(branching_factor=100)\n"
          ]
        },
        {
          "output_type": "display_data",
          "data": {
            "text/plain": [
              "<Figure size 432x288 with 1 Axes>"
            ],
            "image/png": "[encoded data removed]"
          },
          "metadata": {
            "needs_background": "light"
          }
        }
      ]
    }
  ]
}